{
 "cells": [
  {
   "cell_type": "markdown",
   "metadata": {},
   "source": [
    "# Spotify's Worldwide Daily Song Ranking (2017)"
   ]
  },
  {
   "cell_type": "markdown",
   "metadata": {},
   "source": [
    "### The 200 daily most streamed songs in 53 countries"
   ]
  },
  {
   "cell_type": "markdown",
   "metadata": {},
   "source": [
    "##### https://www.kaggle.com/edumucelli/spotifys-worldwide-daily-song-ranking/home"
   ]
  },
  {
   "cell_type": "code",
   "execution_count": 2,
   "metadata": {
    "scrolled": true
   },
   "outputs": [
    {
     "data": {
      "text/html": [
       "<div>\n",
       "<style scoped>\n",
       "    .dataframe tbody tr th:only-of-type {\n",
       "        vertical-align: middle;\n",
       "    }\n",
       "\n",
       "    .dataframe tbody tr th {\n",
       "        vertical-align: top;\n",
       "    }\n",
       "\n",
       "    .dataframe thead th {\n",
       "        text-align: right;\n",
       "    }\n",
       "</style>\n",
       "<table border=\"1\" class=\"dataframe\">\n",
       "  <thead>\n",
       "    <tr style=\"text-align: right;\">\n",
       "      <th></th>\n",
       "      <th>Track Name</th>\n",
       "      <th>Artist</th>\n",
       "      <th>Streams</th>\n",
       "      <th>URL</th>\n",
       "      <th>Date</th>\n",
       "      <th>Region</th>\n",
       "    </tr>\n",
       "    <tr>\n",
       "      <th>Position</th>\n",
       "      <th></th>\n",
       "      <th></th>\n",
       "      <th></th>\n",
       "      <th></th>\n",
       "      <th></th>\n",
       "      <th></th>\n",
       "    </tr>\n",
       "  </thead>\n",
       "  <tbody>\n",
       "    <tr>\n",
       "      <th>1</th>\n",
       "      <td>Reggaetón Lento (Bailemos)</td>\n",
       "      <td>CNCO</td>\n",
       "      <td>19272</td>\n",
       "      <td>https://open.spotify.com/track/3AEZUABDXNtecAO...</td>\n",
       "      <td>2017-01-01</td>\n",
       "      <td>ec</td>\n",
       "    </tr>\n",
       "    <tr>\n",
       "      <th>2</th>\n",
       "      <td>Chantaje</td>\n",
       "      <td>Shakira</td>\n",
       "      <td>19270</td>\n",
       "      <td>https://open.spotify.com/track/6mICuAdrwEjh6Y6...</td>\n",
       "      <td>2017-01-01</td>\n",
       "      <td>ec</td>\n",
       "    </tr>\n",
       "    <tr>\n",
       "      <th>3</th>\n",
       "      <td>Otra Vez (feat. J Balvin)</td>\n",
       "      <td>Zion &amp; Lennox</td>\n",
       "      <td>15761</td>\n",
       "      <td>https://open.spotify.com/track/3QwBODjSEzelZyV...</td>\n",
       "      <td>2017-01-01</td>\n",
       "      <td>ec</td>\n",
       "    </tr>\n",
       "    <tr>\n",
       "      <th>4</th>\n",
       "      <td>Vente Pa' Ca</td>\n",
       "      <td>Ricky Martin</td>\n",
       "      <td>14954</td>\n",
       "      <td>https://open.spotify.com/track/7DM4BPaS7uofFul...</td>\n",
       "      <td>2017-01-01</td>\n",
       "      <td>ec</td>\n",
       "    </tr>\n",
       "    <tr>\n",
       "      <th>5</th>\n",
       "      <td>Safari</td>\n",
       "      <td>J Balvin</td>\n",
       "      <td>14269</td>\n",
       "      <td>https://open.spotify.com/track/6rQSrBHf7HlZjtc...</td>\n",
       "      <td>2017-01-01</td>\n",
       "      <td>ec</td>\n",
       "    </tr>\n",
       "    <tr>\n",
       "      <th>6</th>\n",
       "      <td>La Bicicleta</td>\n",
       "      <td>Carlos Vives</td>\n",
       "      <td>12843</td>\n",
       "      <td>https://open.spotify.com/track/0sXvAOmXgjR2QUq...</td>\n",
       "      <td>2017-01-01</td>\n",
       "      <td>ec</td>\n",
       "    </tr>\n",
       "    <tr>\n",
       "      <th>7</th>\n",
       "      <td>Ay Mi Dios</td>\n",
       "      <td>IAmChino</td>\n",
       "      <td>10986</td>\n",
       "      <td>https://open.spotify.com/track/6stYbAJgTszHAHZ...</td>\n",
       "      <td>2017-01-01</td>\n",
       "      <td>ec</td>\n",
       "    </tr>\n",
       "    <tr>\n",
       "      <th>8</th>\n",
       "      <td>Andas En Mi Cabeza</td>\n",
       "      <td>Chino &amp; Nacho</td>\n",
       "      <td>10653</td>\n",
       "      <td>https://open.spotify.com/track/5mey7CLLuFToM2P...</td>\n",
       "      <td>2017-01-01</td>\n",
       "      <td>ec</td>\n",
       "    </tr>\n",
       "    <tr>\n",
       "      <th>9</th>\n",
       "      <td>Traicionera</td>\n",
       "      <td>Sebastian Yatra</td>\n",
       "      <td>9807</td>\n",
       "      <td>https://open.spotify.com/track/5J1c3M4EldCfNxX...</td>\n",
       "      <td>2017-01-01</td>\n",
       "      <td>ec</td>\n",
       "    </tr>\n",
       "    <tr>\n",
       "      <th>10</th>\n",
       "      <td>Shaky Shaky</td>\n",
       "      <td>Daddy Yankee</td>\n",
       "      <td>9612</td>\n",
       "      <td>https://open.spotify.com/track/58IL315gMSTD37D...</td>\n",
       "      <td>2017-01-01</td>\n",
       "      <td>ec</td>\n",
       "    </tr>\n",
       "  </tbody>\n",
       "</table>\n",
       "</div>"
      ],
      "text/plain": [
       "                          Track Name           Artist  Streams  \\\n",
       "Position                                                         \n",
       "1         Reggaetón Lento (Bailemos)             CNCO    19272   \n",
       "2                           Chantaje          Shakira    19270   \n",
       "3          Otra Vez (feat. J Balvin)    Zion & Lennox    15761   \n",
       "4                       Vente Pa' Ca     Ricky Martin    14954   \n",
       "5                             Safari         J Balvin    14269   \n",
       "6                       La Bicicleta     Carlos Vives    12843   \n",
       "7                         Ay Mi Dios         IAmChino    10986   \n",
       "8                 Andas En Mi Cabeza    Chino & Nacho    10653   \n",
       "9                        Traicionera  Sebastian Yatra     9807   \n",
       "10                       Shaky Shaky     Daddy Yankee     9612   \n",
       "\n",
       "                                                        URL        Date Region  \n",
       "Position                                                                        \n",
       "1         https://open.spotify.com/track/3AEZUABDXNtecAO...  2017-01-01     ec  \n",
       "2         https://open.spotify.com/track/6mICuAdrwEjh6Y6...  2017-01-01     ec  \n",
       "3         https://open.spotify.com/track/3QwBODjSEzelZyV...  2017-01-01     ec  \n",
       "4         https://open.spotify.com/track/7DM4BPaS7uofFul...  2017-01-01     ec  \n",
       "5         https://open.spotify.com/track/6rQSrBHf7HlZjtc...  2017-01-01     ec  \n",
       "6         https://open.spotify.com/track/0sXvAOmXgjR2QUq...  2017-01-01     ec  \n",
       "7         https://open.spotify.com/track/6stYbAJgTszHAHZ...  2017-01-01     ec  \n",
       "8         https://open.spotify.com/track/5mey7CLLuFToM2P...  2017-01-01     ec  \n",
       "9         https://open.spotify.com/track/5J1c3M4EldCfNxX...  2017-01-01     ec  \n",
       "10        https://open.spotify.com/track/58IL315gMSTD37D...  2017-01-01     ec  "
      ]
     },
     "execution_count": 2,
     "metadata": {},
     "output_type": "execute_result"
    }
   ],
   "source": [
    "import pandas as pd\n",
    "import numpy as np\n",
    "\n",
    "df = pd.read_csv(\"DataSets/Spotify2017.csv\")\n",
    "df = df.set_index(['Position'])\n",
    "df.head(10) #generates the first 10 entries"
   ]
  },
  {
   "cell_type": "markdown",
   "metadata": {},
   "source": [
    "### Q1: Who were the Top 5 streamed artists worldwide? "
   ]
  },
  {
   "cell_type": "code",
   "execution_count": 3,
   "metadata": {},
   "outputs": [
    {
     "data": {
      "text/plain": [
       "dtype('int64')"
      ]
     },
     "execution_count": 3,
     "metadata": {},
     "output_type": "execute_result"
    }
   ],
   "source": [
    "df['Streams'].dtype"
   ]
  },
  {
   "cell_type": "code",
   "execution_count": 4,
   "metadata": {},
   "outputs": [
    {
     "data": {
      "text/html": [
       "<div>\n",
       "<style scoped>\n",
       "    .dataframe tbody tr th:only-of-type {\n",
       "        vertical-align: middle;\n",
       "    }\n",
       "\n",
       "    .dataframe tbody tr th {\n",
       "        vertical-align: top;\n",
       "    }\n",
       "\n",
       "    .dataframe thead th {\n",
       "        text-align: right;\n",
       "    }\n",
       "</style>\n",
       "<table border=\"1\" class=\"dataframe\">\n",
       "  <thead>\n",
       "    <tr style=\"text-align: right;\">\n",
       "      <th></th>\n",
       "      <th>Streams</th>\n",
       "    </tr>\n",
       "    <tr>\n",
       "      <th>Artist</th>\n",
       "      <th></th>\n",
       "    </tr>\n",
       "  </thead>\n",
       "  <tbody>\n",
       "    <tr>\n",
       "      <th>Ed Sheeran</th>\n",
       "      <td>4560088448</td>\n",
       "    </tr>\n",
       "    <tr>\n",
       "      <th>Drake</th>\n",
       "      <td>2238528547</td>\n",
       "    </tr>\n",
       "    <tr>\n",
       "      <th>The Chainsmokers</th>\n",
       "      <td>2210874037</td>\n",
       "    </tr>\n",
       "    <tr>\n",
       "      <th>Post Malone</th>\n",
       "      <td>1834991987</td>\n",
       "    </tr>\n",
       "    <tr>\n",
       "      <th>Kendrick Lamar</th>\n",
       "      <td>1817094405</td>\n",
       "    </tr>\n",
       "  </tbody>\n",
       "</table>\n",
       "</div>"
      ],
      "text/plain": [
       "                     Streams\n",
       "Artist                      \n",
       "Ed Sheeran        4560088448\n",
       "Drake             2238528547\n",
       "The Chainsmokers  2210874037\n",
       "Post Malone       1834991987\n",
       "Kendrick Lamar    1817094405"
      ]
     },
     "execution_count": 4,
     "metadata": {},
     "output_type": "execute_result"
    }
   ],
   "source": [
    "world = df[df['Region'] == 'global']\n",
    "by_artist = world.groupby('Artist')\n",
    "by_artist = by_artist.sum()\n",
    "by_artist = by_artist.sort_values(['Streams'], ascending=False)\n",
    "by_artist.head(5)"
   ]
  },
  {
   "cell_type": "markdown",
   "metadata": {},
   "source": [
    "### Q2: Which regions are represented in the data?"
   ]
  },
  {
   "cell_type": "code",
   "execution_count": 5,
   "metadata": {},
   "outputs": [
    {
     "name": "stdout",
     "output_type": "stream",
     "text": [
      "ec fr ar fi no it lt ph tw nz ee tr us sv cr de cl jp br hn gt ch hu ca pe be my dk bo pl at pt se mx pa uy is es cz ie nl sk co sg id do lu gb global py au lv gr hk "
     ]
    }
   ],
   "source": [
    "for i in df['Region'].unique():\n",
    "    print(i, end=' ')"
   ]
  },
  {
   "cell_type": "markdown",
   "metadata": {},
   "source": [
    "### Q3: Who were the Top 10 streamed artists in the United States? "
   ]
  },
  {
   "cell_type": "code",
   "execution_count": 6,
   "metadata": {},
   "outputs": [
    {
     "data": {
      "text/html": [
       "<div>\n",
       "<style scoped>\n",
       "    .dataframe tbody tr th:only-of-type {\n",
       "        vertical-align: middle;\n",
       "    }\n",
       "\n",
       "    .dataframe tbody tr th {\n",
       "        vertical-align: top;\n",
       "    }\n",
       "\n",
       "    .dataframe thead th {\n",
       "        text-align: right;\n",
       "    }\n",
       "</style>\n",
       "<table border=\"1\" class=\"dataframe\">\n",
       "  <thead>\n",
       "    <tr style=\"text-align: right;\">\n",
       "      <th></th>\n",
       "      <th>Streams</th>\n",
       "    </tr>\n",
       "    <tr>\n",
       "      <th>Artist</th>\n",
       "      <th></th>\n",
       "    </tr>\n",
       "  </thead>\n",
       "  <tbody>\n",
       "    <tr>\n",
       "      <th>Drake</th>\n",
       "      <td>1250864578</td>\n",
       "    </tr>\n",
       "    <tr>\n",
       "      <th>Kendrick Lamar</th>\n",
       "      <td>1163890899</td>\n",
       "    </tr>\n",
       "    <tr>\n",
       "      <th>Post Malone</th>\n",
       "      <td>988811897</td>\n",
       "    </tr>\n",
       "    <tr>\n",
       "      <th>Lil Uzi Vert</th>\n",
       "      <td>773675118</td>\n",
       "    </tr>\n",
       "    <tr>\n",
       "      <th>Ed Sheeran</th>\n",
       "      <td>723507889</td>\n",
       "    </tr>\n",
       "    <tr>\n",
       "      <th>Migos</th>\n",
       "      <td>694024669</td>\n",
       "    </tr>\n",
       "    <tr>\n",
       "      <th>Future</th>\n",
       "      <td>568147747</td>\n",
       "    </tr>\n",
       "    <tr>\n",
       "      <th>The Chainsmokers</th>\n",
       "      <td>556698859</td>\n",
       "    </tr>\n",
       "    <tr>\n",
       "      <th>21 Savage</th>\n",
       "      <td>481196247</td>\n",
       "    </tr>\n",
       "    <tr>\n",
       "      <th>Khalid</th>\n",
       "      <td>470519202</td>\n",
       "    </tr>\n",
       "  </tbody>\n",
       "</table>\n",
       "</div>"
      ],
      "text/plain": [
       "                     Streams\n",
       "Artist                      \n",
       "Drake             1250864578\n",
       "Kendrick Lamar    1163890899\n",
       "Post Malone        988811897\n",
       "Lil Uzi Vert       773675118\n",
       "Ed Sheeran         723507889\n",
       "Migos              694024669\n",
       "Future             568147747\n",
       "The Chainsmokers   556698859\n",
       "21 Savage          481196247\n",
       "Khalid             470519202"
      ]
     },
     "execution_count": 6,
     "metadata": {},
     "output_type": "execute_result"
    }
   ],
   "source": [
    "unitedStates = df[df['Region'] == 'us'].groupby('Artist')\n",
    "unitedStates = unitedStates.sum()\n",
    "unitedStates = unitedStates.sort_values(['Streams'], ascending=False)\n",
    "unitedStates.head(10)"
   ]
  },
  {
   "cell_type": "markdown",
   "metadata": {},
   "source": [
    "### Q4: Who were the Top 10 streamed artists in Japan?"
   ]
  },
  {
   "cell_type": "code",
   "execution_count": 7,
   "metadata": {},
   "outputs": [
    {
     "data": {
      "text/html": [
       "<div>\n",
       "<style scoped>\n",
       "    .dataframe tbody tr th:only-of-type {\n",
       "        vertical-align: middle;\n",
       "    }\n",
       "\n",
       "    .dataframe tbody tr th {\n",
       "        vertical-align: top;\n",
       "    }\n",
       "\n",
       "    .dataframe thead th {\n",
       "        text-align: right;\n",
       "    }\n",
       "</style>\n",
       "<table border=\"1\" class=\"dataframe\">\n",
       "  <thead>\n",
       "    <tr style=\"text-align: right;\">\n",
       "      <th></th>\n",
       "      <th>Streams</th>\n",
       "    </tr>\n",
       "    <tr>\n",
       "      <th>Artist</th>\n",
       "      <th></th>\n",
       "    </tr>\n",
       "  </thead>\n",
       "  <tbody>\n",
       "    <tr>\n",
       "      <th>Ed Sheeran</th>\n",
       "      <td>16462724</td>\n",
       "    </tr>\n",
       "    <tr>\n",
       "      <th>Shota Shimizu</th>\n",
       "      <td>12020288</td>\n",
       "    </tr>\n",
       "    <tr>\n",
       "      <th>TWICE</th>\n",
       "      <td>11983885</td>\n",
       "    </tr>\n",
       "    <tr>\n",
       "      <th>The Chainsmokers</th>\n",
       "      <td>11279051</td>\n",
       "    </tr>\n",
       "    <tr>\n",
       "      <th>ONE OK ROCK</th>\n",
       "      <td>11275329</td>\n",
       "    </tr>\n",
       "    <tr>\n",
       "      <th>AAA</th>\n",
       "      <td>8449246</td>\n",
       "    </tr>\n",
       "    <tr>\n",
       "      <th>Justin Bieber</th>\n",
       "      <td>7406948</td>\n",
       "    </tr>\n",
       "    <tr>\n",
       "      <th>Bruno Mars</th>\n",
       "      <td>7358350</td>\n",
       "    </tr>\n",
       "    <tr>\n",
       "      <th>Ariana Grande</th>\n",
       "      <td>6580630</td>\n",
       "    </tr>\n",
       "    <tr>\n",
       "      <th>Maroon 5</th>\n",
       "      <td>5209358</td>\n",
       "    </tr>\n",
       "  </tbody>\n",
       "</table>\n",
       "</div>"
      ],
      "text/plain": [
       "                   Streams\n",
       "Artist                    \n",
       "Ed Sheeran        16462724\n",
       "Shota Shimizu     12020288\n",
       "TWICE             11983885\n",
       "The Chainsmokers  11279051\n",
       "ONE OK ROCK       11275329\n",
       "AAA                8449246\n",
       "Justin Bieber      7406948\n",
       "Bruno Mars         7358350\n",
       "Ariana Grande      6580630\n",
       "Maroon 5           5209358"
      ]
     },
     "execution_count": 7,
     "metadata": {},
     "output_type": "execute_result"
    }
   ],
   "source": [
    "japan = df[df['Region'] == 'jp'].groupby('Artist')\n",
    "japan = japan.sum()\n",
    "japan = japan.sort_values(['Streams'], ascending=False)\n",
    "japan.head(10)"
   ]
  },
  {
   "cell_type": "markdown",
   "metadata": {},
   "source": [
    "### Q5: What are Ed Sheeran's top 5 most streamed songs worldwide? "
   ]
  },
  {
   "cell_type": "code",
   "execution_count": 8,
   "metadata": {},
   "outputs": [
    {
     "data": {
      "text/html": [
       "<div>\n",
       "<style scoped>\n",
       "    .dataframe tbody tr th:only-of-type {\n",
       "        vertical-align: middle;\n",
       "    }\n",
       "\n",
       "    .dataframe tbody tr th {\n",
       "        vertical-align: top;\n",
       "    }\n",
       "\n",
       "    .dataframe thead th {\n",
       "        text-align: right;\n",
       "    }\n",
       "</style>\n",
       "<table border=\"1\" class=\"dataframe\">\n",
       "  <thead>\n",
       "    <tr style=\"text-align: right;\">\n",
       "      <th></th>\n",
       "      <th>Streams</th>\n",
       "    </tr>\n",
       "    <tr>\n",
       "      <th>Track Name</th>\n",
       "      <th></th>\n",
       "    </tr>\n",
       "  </thead>\n",
       "  <tbody>\n",
       "    <tr>\n",
       "      <th>Shape of You</th>\n",
       "      <td>1490812208</td>\n",
       "    </tr>\n",
       "    <tr>\n",
       "      <th>Perfect</th>\n",
       "      <td>516722898</td>\n",
       "    </tr>\n",
       "    <tr>\n",
       "      <th>Castle on the Hill</th>\n",
       "      <td>497746717</td>\n",
       "    </tr>\n",
       "    <tr>\n",
       "      <th>Galway Girl</th>\n",
       "      <td>465847741</td>\n",
       "    </tr>\n",
       "    <tr>\n",
       "      <th>Photograph</th>\n",
       "      <td>255658845</td>\n",
       "    </tr>\n",
       "  </tbody>\n",
       "</table>\n",
       "</div>"
      ],
      "text/plain": [
       "                       Streams\n",
       "Track Name                    \n",
       "Shape of You        1490812208\n",
       "Perfect              516722898\n",
       "Castle on the Hill   497746717\n",
       "Galway Girl          465847741\n",
       "Photograph           255658845"
      ]
     },
     "execution_count": 8,
     "metadata": {},
     "output_type": "execute_result"
    }
   ],
   "source": [
    "edSheeran = world[world['Artist'] == 'Ed Sheeran'].groupby('Track Name')\n",
    "edSheeran = edSheeran.sum()\n",
    "edSheeran = edSheeran.sort_values(['Streams'], ascending=False)\n",
    "edSheeran.head(5)"
   ]
  },
  {
   "cell_type": "markdown",
   "metadata": {},
   "source": [
    "### Q6: What were Drake's Top 5 streamed songs in the US?"
   ]
  },
  {
   "cell_type": "code",
   "execution_count": 9,
   "metadata": {},
   "outputs": [
    {
     "data": {
      "text/html": [
       "<div>\n",
       "<style scoped>\n",
       "    .dataframe tbody tr th:only-of-type {\n",
       "        vertical-align: middle;\n",
       "    }\n",
       "\n",
       "    .dataframe tbody tr th {\n",
       "        vertical-align: top;\n",
       "    }\n",
       "\n",
       "    .dataframe thead th {\n",
       "        text-align: right;\n",
       "    }\n",
       "</style>\n",
       "<table border=\"1\" class=\"dataframe\">\n",
       "  <thead>\n",
       "    <tr style=\"text-align: right;\">\n",
       "      <th></th>\n",
       "      <th>Streams</th>\n",
       "    </tr>\n",
       "    <tr>\n",
       "      <th>Track Name</th>\n",
       "      <th></th>\n",
       "    </tr>\n",
       "  </thead>\n",
       "  <tbody>\n",
       "    <tr>\n",
       "      <th>Fake Love</th>\n",
       "      <td>172764719</td>\n",
       "    </tr>\n",
       "    <tr>\n",
       "      <th>Passionfruit</th>\n",
       "      <td>168936267</td>\n",
       "    </tr>\n",
       "    <tr>\n",
       "      <th>Portland</th>\n",
       "      <td>132209360</td>\n",
       "    </tr>\n",
       "    <tr>\n",
       "      <th>One Dance</th>\n",
       "      <td>96640713</td>\n",
       "    </tr>\n",
       "    <tr>\n",
       "      <th>Gyalchester</th>\n",
       "      <td>86399683</td>\n",
       "    </tr>\n",
       "  </tbody>\n",
       "</table>\n",
       "</div>"
      ],
      "text/plain": [
       "                Streams\n",
       "Track Name             \n",
       "Fake Love     172764719\n",
       "Passionfruit  168936267\n",
       "Portland      132209360\n",
       "One Dance      96640713\n",
       "Gyalchester    86399683"
      ]
     },
     "execution_count": 9,
     "metadata": {},
     "output_type": "execute_result"
    }
   ],
   "source": [
    "us = df[df['Region'] == 'us']\n",
    "drake = us[us['Artist'] == 'Drake'].groupby('Track Name')\n",
    "drake = drake.sum()\n",
    "drake = drake.sort_values(['Streams'], ascending=False)\n",
    "drake.head(5)"
   ]
  },
  {
   "cell_type": "markdown",
   "metadata": {},
   "source": [
    "### Q7: What were the Top 10 most streamed songs worldwide? "
   ]
  },
  {
   "cell_type": "code",
   "execution_count": 10,
   "metadata": {},
   "outputs": [
    {
     "data": {
      "text/html": [
       "<div>\n",
       "<style scoped>\n",
       "    .dataframe tbody tr th:only-of-type {\n",
       "        vertical-align: middle;\n",
       "    }\n",
       "\n",
       "    .dataframe tbody tr th {\n",
       "        vertical-align: top;\n",
       "    }\n",
       "\n",
       "    .dataframe thead th {\n",
       "        text-align: right;\n",
       "    }\n",
       "</style>\n",
       "<table border=\"1\" class=\"dataframe\">\n",
       "  <thead>\n",
       "    <tr style=\"text-align: right;\">\n",
       "      <th></th>\n",
       "      <th>Streams</th>\n",
       "    </tr>\n",
       "    <tr>\n",
       "      <th>Track Name</th>\n",
       "      <th></th>\n",
       "    </tr>\n",
       "  </thead>\n",
       "  <tbody>\n",
       "    <tr>\n",
       "      <th>Shape of You</th>\n",
       "      <td>1490812208</td>\n",
       "    </tr>\n",
       "    <tr>\n",
       "      <th>Despacito - Remix</th>\n",
       "      <td>919199404</td>\n",
       "    </tr>\n",
       "    <tr>\n",
       "      <th>Despacito (Featuring Daddy Yankee)</th>\n",
       "      <td>742841612</td>\n",
       "    </tr>\n",
       "    <tr>\n",
       "      <th>Something Just Like This</th>\n",
       "      <td>692404365</td>\n",
       "    </tr>\n",
       "    <tr>\n",
       "      <th>Unforgettable</th>\n",
       "      <td>678399824</td>\n",
       "    </tr>\n",
       "    <tr>\n",
       "      <th>HUMBLE.</th>\n",
       "      <td>662179904</td>\n",
       "    </tr>\n",
       "    <tr>\n",
       "      <th>I'm the One</th>\n",
       "      <td>636419786</td>\n",
       "    </tr>\n",
       "    <tr>\n",
       "      <th>rockstar</th>\n",
       "      <td>631519085</td>\n",
       "    </tr>\n",
       "    <tr>\n",
       "      <th>It Ain't Me (with Selena Gomez)</th>\n",
       "      <td>604115906</td>\n",
       "    </tr>\n",
       "    <tr>\n",
       "      <th>XO TOUR Llif3</th>\n",
       "      <td>593112026</td>\n",
       "    </tr>\n",
       "  </tbody>\n",
       "</table>\n",
       "</div>"
      ],
      "text/plain": [
       "                                       Streams\n",
       "Track Name                                    \n",
       "Shape of You                        1490812208\n",
       "Despacito - Remix                    919199404\n",
       "Despacito (Featuring Daddy Yankee)   742841612\n",
       "Something Just Like This             692404365\n",
       "Unforgettable                        678399824\n",
       "HUMBLE.                              662179904\n",
       "I'm the One                          636419786\n",
       "rockstar                             631519085\n",
       "It Ain't Me (with Selena Gomez)      604115906\n",
       "XO TOUR Llif3                        593112026"
      ]
     },
     "execution_count": 10,
     "metadata": {},
     "output_type": "execute_result"
    }
   ],
   "source": [
    "tracks = world.groupby('Track Name')\n",
    "tracks = tracks.sum()\n",
    "tracks = tracks.sort_values(['Streams'], ascending=False)\n",
    "tracks.head(10)"
   ]
  },
  {
   "cell_type": "markdown",
   "metadata": {},
   "source": [
    "### Q8: How many times, on average, was 'Shape of You' streamed daily?"
   ]
  },
  {
   "cell_type": "code",
   "execution_count": 11,
   "metadata": {},
   "outputs": [
    {
     "data": {
      "text/plain": [
       "4095637.9340659343"
      ]
     },
     "execution_count": 11,
     "metadata": {},
     "output_type": "execute_result"
    }
   ],
   "source": [
    "shapeOfYou = world[world['Track Name'] == 'Shape of You']\n",
    "shapeOfYou.mean()['Streams']"
   ]
  },
  {
   "cell_type": "markdown",
   "metadata": {},
   "source": [
    "### Q9: List all of the songs that were ever the most streamed on a given day in the US."
   ]
  },
  {
   "cell_type": "code",
   "execution_count": 12,
   "metadata": {},
   "outputs": [
    {
     "name": "stdout",
     "output_type": "stream",
     "text": [
      "Bad and Boujee (feat. Lil Uzi Vert)\n",
      "Shape of You\n",
      "Passionfruit\n",
      "HUMBLE.\n",
      "Despacito (Featuring Daddy Yankee)\n",
      "Despacito - Remix\n",
      "XO TOUR Llif3\n",
      "Wild Thoughts\n",
      "Unforgettable\n",
      "Bank Account\n",
      "Look What You Made Me Do\n",
      "...Ready For It?\n",
      "1-800-273-8255\n",
      "rockstar\n",
      "All I Want for Christmas Is You\n"
     ]
    }
   ],
   "source": [
    "us = df[df['Region'] == 'us']\n",
    "for i in us['Track Name'][1].unique():\n",
    "    print(i)"
   ]
  },
  {
   "cell_type": "markdown",
   "metadata": {},
   "source": [
    "### Q10: How many times was 'Rockstar' by Post Malone the most streamed song in the US on a given day?"
   ]
  },
  {
   "cell_type": "code",
   "execution_count": 13,
   "metadata": {},
   "outputs": [
    {
     "data": {
      "text/plain": [
       "114"
      ]
     },
     "execution_count": 13,
     "metadata": {},
     "output_type": "execute_result"
    }
   ],
   "source": [
    "first = df.loc[[1]]\n",
    "us = first[first['Region'] == 'us']\n",
    "len(us[us['Track Name'] == 'rockstar'])"
   ]
  },
  {
   "cell_type": "markdown",
   "metadata": {},
   "source": [
    "### Q11: Which song was the #1 streamed song most frequently? (in the US)"
   ]
  },
  {
   "cell_type": "code",
   "execution_count": 14,
   "metadata": {},
   "outputs": [
    {
     "data": {
      "text/html": [
       "<div>\n",
       "<style scoped>\n",
       "    .dataframe tbody tr th:only-of-type {\n",
       "        vertical-align: middle;\n",
       "    }\n",
       "\n",
       "    .dataframe tbody tr th {\n",
       "        vertical-align: top;\n",
       "    }\n",
       "\n",
       "    .dataframe thead th {\n",
       "        text-align: right;\n",
       "    }\n",
       "</style>\n",
       "<table border=\"1\" class=\"dataframe\">\n",
       "  <thead>\n",
       "    <tr style=\"text-align: right;\">\n",
       "      <th></th>\n",
       "      <th>Song</th>\n",
       "      <th>Days_Most_Streamed</th>\n",
       "    </tr>\n",
       "  </thead>\n",
       "  <tbody>\n",
       "    <tr>\n",
       "      <th>1</th>\n",
       "      <td>rockstar</td>\n",
       "      <td>114</td>\n",
       "    </tr>\n",
       "    <tr>\n",
       "      <th>2</th>\n",
       "      <td>HUMBLE.</td>\n",
       "      <td>64</td>\n",
       "    </tr>\n",
       "    <tr>\n",
       "      <th>3</th>\n",
       "      <td>Shape of You</td>\n",
       "      <td>48</td>\n",
       "    </tr>\n",
       "    <tr>\n",
       "      <th>4</th>\n",
       "      <td>Despacito - Remix</td>\n",
       "      <td>46</td>\n",
       "    </tr>\n",
       "    <tr>\n",
       "      <th>5</th>\n",
       "      <td>Bad and Boujee (feat. Lil Uzi Vert)</td>\n",
       "      <td>29</td>\n",
       "    </tr>\n",
       "    <tr>\n",
       "      <th>6</th>\n",
       "      <td>Bank Account</td>\n",
       "      <td>20</td>\n",
       "    </tr>\n",
       "    <tr>\n",
       "      <th>7</th>\n",
       "      <td>Passionfruit</td>\n",
       "      <td>12</td>\n",
       "    </tr>\n",
       "    <tr>\n",
       "      <th>8</th>\n",
       "      <td>Look What You Made Me Do</td>\n",
       "      <td>10</td>\n",
       "    </tr>\n",
       "    <tr>\n",
       "      <th>9</th>\n",
       "      <td>1-800-273-8255</td>\n",
       "      <td>10</td>\n",
       "    </tr>\n",
       "    <tr>\n",
       "      <th>10</th>\n",
       "      <td>Unforgettable</td>\n",
       "      <td>7</td>\n",
       "    </tr>\n",
       "    <tr>\n",
       "      <th>11</th>\n",
       "      <td>XO TOUR Llif3</td>\n",
       "      <td>4</td>\n",
       "    </tr>\n",
       "    <tr>\n",
       "      <th>12</th>\n",
       "      <td>Despacito (Featuring Daddy Yankee)</td>\n",
       "      <td>2</td>\n",
       "    </tr>\n",
       "    <tr>\n",
       "      <th>13</th>\n",
       "      <td>...Ready For It?</td>\n",
       "      <td>2</td>\n",
       "    </tr>\n",
       "    <tr>\n",
       "      <th>14</th>\n",
       "      <td>All I Want for Christmas Is You</td>\n",
       "      <td>2</td>\n",
       "    </tr>\n",
       "    <tr>\n",
       "      <th>15</th>\n",
       "      <td>Wild Thoughts</td>\n",
       "      <td>1</td>\n",
       "    </tr>\n",
       "  </tbody>\n",
       "</table>\n",
       "</div>"
      ],
      "text/plain": [
       "                                   Song  Days_Most_Streamed\n",
       "1                              rockstar                 114\n",
       "2                               HUMBLE.                  64\n",
       "3                          Shape of You                  48\n",
       "4                     Despacito - Remix                  46\n",
       "5   Bad and Boujee (feat. Lil Uzi Vert)                  29\n",
       "6                          Bank Account                  20\n",
       "7                          Passionfruit                  12\n",
       "8              Look What You Made Me Do                  10\n",
       "9                        1-800-273-8255                  10\n",
       "10                        Unforgettable                   7\n",
       "11                        XO TOUR Llif3                   4\n",
       "12   Despacito (Featuring Daddy Yankee)                   2\n",
       "13                     ...Ready For It?                   2\n",
       "14      All I Want for Christmas Is You                   2\n",
       "15                        Wild Thoughts                   1"
      ]
     },
     "execution_count": 14,
     "metadata": {},
     "output_type": "execute_result"
    }
   ],
   "source": [
    "songs = []\n",
    "streams = []\n",
    "\n",
    "\n",
    "\n",
    "for i in us['Track Name'][1].unique():\n",
    "    streams.append(len(us[us['Track Name'] == i]))\n",
    "    songs.append(i)\n",
    "    \n",
    "    \n",
    "Dict = {\n",
    "    'Song': songs,\n",
    "    'Days_Most_Streamed': streams,\n",
    "}\n",
    "\n",
    "df2 = pd.DataFrame(Dict)\n",
    "df2 = df2.sort_values(['Days_Most_Streamed'], ascending=False)\n",
    "df2.index = range(1, 16)\n",
    "df2"
   ]
  },
  {
   "cell_type": "markdown",
   "metadata": {},
   "source": [
    "### Q12: What were the Top 5 charting songs in the US during March?"
   ]
  },
  {
   "cell_type": "code",
   "execution_count": 15,
   "metadata": {},
   "outputs": [
    {
     "data": {
      "text/html": [
       "<div>\n",
       "<style scoped>\n",
       "    .dataframe tbody tr th:only-of-type {\n",
       "        vertical-align: middle;\n",
       "    }\n",
       "\n",
       "    .dataframe tbody tr th {\n",
       "        vertical-align: top;\n",
       "    }\n",
       "\n",
       "    .dataframe thead th {\n",
       "        text-align: right;\n",
       "    }\n",
       "</style>\n",
       "<table border=\"1\" class=\"dataframe\">\n",
       "  <thead>\n",
       "    <tr style=\"text-align: right;\">\n",
       "      <th></th>\n",
       "      <th>Streams</th>\n",
       "    </tr>\n",
       "    <tr>\n",
       "      <th>Track Name</th>\n",
       "      <th></th>\n",
       "    </tr>\n",
       "  </thead>\n",
       "  <tbody>\n",
       "    <tr>\n",
       "      <th>Shape of You</th>\n",
       "      <td>51382306</td>\n",
       "    </tr>\n",
       "    <tr>\n",
       "      <th>Mask Off</th>\n",
       "      <td>39501323</td>\n",
       "    </tr>\n",
       "    <tr>\n",
       "      <th>iSpy (feat. Lil Yachty)</th>\n",
       "      <td>37264315</td>\n",
       "    </tr>\n",
       "    <tr>\n",
       "      <th>That's What I Like</th>\n",
       "      <td>35508219</td>\n",
       "    </tr>\n",
       "    <tr>\n",
       "      <th>Tunnel Vision</th>\n",
       "      <td>30940107</td>\n",
       "    </tr>\n",
       "  </tbody>\n",
       "</table>\n",
       "</div>"
      ],
      "text/plain": [
       "                          Streams\n",
       "Track Name                       \n",
       "Shape of You             51382306\n",
       "Mask Off                 39501323\n",
       "iSpy (feat. Lil Yachty)  37264315\n",
       "That's What I Like       35508219\n",
       "Tunnel Vision            30940107"
      ]
     },
     "execution_count": 15,
     "metadata": {},
     "output_type": "execute_result"
    }
   ],
   "source": [
    "us = df[df['Region'] == 'us']\n",
    "month = us[us['Date'].str.contains('2017-03')]\n",
    "top10 = month.groupby('Track Name').sum()\n",
    "top10 = top10.sort_values(['Streams'], ascending=False)\n",
    "top10.head(5)"
   ]
  },
  {
   "cell_type": "code",
   "execution_count": null,
   "metadata": {},
   "outputs": [],
   "source": []
  }
 ],
 "metadata": {
  "kernelspec": {
   "display_name": "Python 3",
   "language": "python",
   "name": "python3"
  },
  "language_info": {
   "codemirror_mode": {
    "name": "ipython",
    "version": 3
   },
   "file_extension": ".py",
   "mimetype": "text/x-python",
   "name": "python",
   "nbconvert_exporter": "python",
   "pygments_lexer": "ipython3",
   "version": "3.6.5"
  }
 },
 "nbformat": 4,
 "nbformat_minor": 2
}
